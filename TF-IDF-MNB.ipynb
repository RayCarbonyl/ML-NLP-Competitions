{
 "cells": [
  {
   "cell_type": "code",
   "execution_count": 1,
   "metadata": {},
   "outputs": [],
   "source": [
    "import numpy as np\n",
    "import pandas as pd"
   ]
  },
  {
   "cell_type": "code",
   "execution_count": 2,
   "metadata": {
    "colab": {},
    "colab_type": "code",
    "id": "jDfY-4uonZ6D"
   },
   "outputs": [],
   "source": [
    "train = pd.read_csv(\"train.csv\",encoding = \"utf8\",engine = \"python\", index_col='ID')\n",
    "test = pd.read_csv(\"20190513_test.csv\",encoding = \"utf8\",engine = \"python\",index_col='ID')\n",
    "old_test = pd.read_csv(\"20190506_test.csv\",encoding = \"utf8\",engine = \"python\",index_col='ID')\n",
    "train[\"label\"] = train[\"label\"].map(lambda x: 1 if x==\"Positive\" else 0)"
   ]
  },
  {
   "cell_type": "code",
   "execution_count": 3,
   "metadata": {
    "colab": {
     "base_uri": "https://localhost:8080/",
     "height": 233
    },
    "colab_type": "code",
    "executionInfo": {
     "elapsed": 704,
     "status": "ok",
     "timestamp": 1557649681676,
     "user": {
      "displayName": "Kofji Tadokorov",
      "photoUrl": "https://lh3.googleusercontent.com/-YUx_cf31Gtg/AAAAAAAAAAI/AAAAAAAAAA0/rOAijW_LvVg/s64/photo.jpg",
      "userId": "01388159300759635001"
     },
     "user_tz": -480
    },
    "id": "JGTcEln3nZ6G",
    "outputId": "d790b5cb-0354-4416-9238-d27ab0526d60"
   },
   "outputs": [
    {
     "data": {
      "text/html": [
       "<div>\n",
       "<style scoped>\n",
       "    .dataframe tbody tr th:only-of-type {\n",
       "        vertical-align: middle;\n",
       "    }\n",
       "\n",
       "    .dataframe tbody tr th {\n",
       "        vertical-align: top;\n",
       "    }\n",
       "\n",
       "    .dataframe thead th {\n",
       "        text-align: right;\n",
       "    }\n",
       "</style>\n",
       "<table border=\"1\" class=\"dataframe\">\n",
       "  <thead>\n",
       "    <tr style=\"text-align: right;\">\n",
       "      <th></th>\n",
       "      <th>review</th>\n",
       "      <th>label</th>\n",
       "    </tr>\n",
       "    <tr>\n",
       "      <th>ID</th>\n",
       "      <th></th>\n",
       "      <th></th>\n",
       "    </tr>\n",
       "  </thead>\n",
       "  <tbody>\n",
       "    <tr>\n",
       "      <th>1</th>\n",
       "      <td>Jo bhi ap se tou behtar hoon</td>\n",
       "      <td>0</td>\n",
       "    </tr>\n",
       "    <tr>\n",
       "      <th>2</th>\n",
       "      <td>ya Allah meri sister Affia ki madad farma</td>\n",
       "      <td>1</td>\n",
       "    </tr>\n",
       "    <tr>\n",
       "      <th>3</th>\n",
       "      <td>Yeh khud chahta a is umar main shadi krna.  ha...</td>\n",
       "      <td>0</td>\n",
       "    </tr>\n",
       "    <tr>\n",
       "      <th>4</th>\n",
       "      <td>Tc ? Apky mun xe exe alfax achy nae lgty 😒💃</td>\n",
       "      <td>0</td>\n",
       "    </tr>\n",
       "    <tr>\n",
       "      <th>5</th>\n",
       "      <td>Good</td>\n",
       "      <td>1</td>\n",
       "    </tr>\n",
       "  </tbody>\n",
       "</table>\n",
       "</div>"
      ],
      "text/plain": [
       "                                               review  label\n",
       "ID                                                          \n",
       "1                        Jo bhi ap se tou behtar hoon      0\n",
       "2           ya Allah meri sister Affia ki madad farma      1\n",
       "3   Yeh khud chahta a is umar main shadi krna.  ha...      0\n",
       "4         Tc ? Apky mun xe exe alfax achy nae lgty 😒💃      0\n",
       "5                                                Good      1"
      ]
     },
     "execution_count": 3,
     "metadata": {},
     "output_type": "execute_result"
    }
   ],
   "source": [
    "train.head()"
   ]
  },
  {
   "cell_type": "code",
   "execution_count": 4,
   "metadata": {
    "colab": {},
    "colab_type": "code",
    "id": "mmmuJD5nKAi1"
   },
   "outputs": [],
   "source": [
    "import seaborn as sns\n",
    "from sklearn.feature_extraction.text import TfidfVectorizer\n",
    "from sklearn.model_selection import KFold\n",
    "from sklearn.linear_model import LogisticRegression\n",
    "from sklearn.svm import SVC\n",
    "from sklearn.naive_bayes import MultinomialNB\n",
    "from sklearn.metrics import accuracy_score, classification_report, confusion_matrix\n",
    "from sklearn.feature_extraction.text import TfidfVectorizer\n",
    "import matplotlib.pyplot as plt\n",
    "from sklearn.metrics import roc_auc_score\n",
    "import re\n",
    "from sklearn.pipeline import Pipeline\n",
    "from sklearn.feature_selection import chi2\n",
    "from sklearn.feature_selection import SelectKBest"
   ]
  },
  {
   "cell_type": "code",
   "execution_count": 5,
   "metadata": {},
   "outputs": [],
   "source": [
    "def removeEmoji(sentence):\n",
    "    emoji_pattern = re.compile(\"[\"\n",
    "                           u\"\\U0001F600-\\U0001F64F\"  # emoticons\n",
    "                           u\"\\U0001F300-\\U0001F5FF\"  # symbols & pictographs\n",
    "                           u\"\\U0001F680-\\U0001F6FF\"  # transport & map symbols\n",
    "                           u\"\\U0001F1E0-\\U0001F1FF\"  # flags (iOS)\n",
    "                           u\"\\U00002702-\\U000027B0\"\n",
    "                           u\"\\U000024C2-\\U0001F251\"\n",
    "                           \"]+\", flags=re.UNICODE)\n",
    "    return emoji_pattern.sub(r' ', sentence)\n",
    "#https://stackoverflow.com/questions/33404752/removing-emojis-from-a-string-in-python\n",
    "#Whether remove or not,I think both are fine"
   ]
  },
  {
   "cell_type": "code",
   "execution_count": 6,
   "metadata": {},
   "outputs": [
    {
     "data": {
      "text/html": [
       "<div>\n",
       "<style scoped>\n",
       "    .dataframe tbody tr th:only-of-type {\n",
       "        vertical-align: middle;\n",
       "    }\n",
       "\n",
       "    .dataframe tbody tr th {\n",
       "        vertical-align: top;\n",
       "    }\n",
       "\n",
       "    .dataframe thead th {\n",
       "        text-align: right;\n",
       "    }\n",
       "</style>\n",
       "<table border=\"1\" class=\"dataframe\">\n",
       "  <thead>\n",
       "    <tr style=\"text-align: right;\">\n",
       "      <th></th>\n",
       "      <th>review</th>\n",
       "      <th>label</th>\n",
       "    </tr>\n",
       "    <tr>\n",
       "      <th>ID</th>\n",
       "      <th></th>\n",
       "      <th></th>\n",
       "    </tr>\n",
       "  </thead>\n",
       "  <tbody>\n",
       "    <tr>\n",
       "      <th>1</th>\n",
       "      <td>Jo bhi ap se tou behtar hoon</td>\n",
       "      <td>0</td>\n",
       "    </tr>\n",
       "    <tr>\n",
       "      <th>2</th>\n",
       "      <td>ya Allah meri sister Affia ki madad farma</td>\n",
       "      <td>1</td>\n",
       "    </tr>\n",
       "    <tr>\n",
       "      <th>3</th>\n",
       "      <td>Yeh khud chahta a is umar main shadi krna.  ha...</td>\n",
       "      <td>0</td>\n",
       "    </tr>\n",
       "    <tr>\n",
       "      <th>4</th>\n",
       "      <td>Tc ? Apky mun xe exe alfax achy nae lgty</td>\n",
       "      <td>0</td>\n",
       "    </tr>\n",
       "    <tr>\n",
       "      <th>5</th>\n",
       "      <td>Good</td>\n",
       "      <td>1</td>\n",
       "    </tr>\n",
       "  </tbody>\n",
       "</table>\n",
       "</div>"
      ],
      "text/plain": [
       "                                               review  label\n",
       "ID                                                          \n",
       "1                        Jo bhi ap se tou behtar hoon      0\n",
       "2           ya Allah meri sister Affia ki madad farma      1\n",
       "3   Yeh khud chahta a is umar main shadi krna.  ha...      0\n",
       "4          Tc ? Apky mun xe exe alfax achy nae lgty        0\n",
       "5                                                Good      1"
      ]
     },
     "execution_count": 6,
     "metadata": {},
     "output_type": "execute_result"
    }
   ],
   "source": [
    "train[\"review\"] = train[\"review\"].map(lambda x:removeEmoji(x))\n",
    "old_test[\"review\"] = old_test[\"review\"].map(lambda x:removeEmoji(x))\n",
    "test[\"review\"] = test[\"review\"].map(lambda x:removeEmoji(x))\n",
    "train.head()"
   ]
  },
  {
   "cell_type": "code",
   "execution_count": 7,
   "metadata": {
    "colab": {
     "base_uri": "https://localhost:8080/",
     "height": 52
    },
    "colab_type": "code",
    "executionInfo": {
     "elapsed": 694,
     "status": "ok",
     "timestamp": 1557661307945,
     "user": {
      "displayName": "Kofji Tadokorov",
      "photoUrl": "https://lh3.googleusercontent.com/-YUx_cf31Gtg/AAAAAAAAAAI/AAAAAAAAAA0/rOAijW_LvVg/s64/photo.jpg",
      "userId": "01388159300759635001"
     },
     "user_tz": -480
    },
    "id": "7RpFI07zS0uB",
    "outputId": "24b95f3a-7e1e-4a01-d5b9-38517d00e8fc"
   },
   "outputs": [
    {
     "name": "stdout",
     "output_type": "stream",
     "text": [
      "(6331, 21904)\n",
      "(6331,)\n"
     ]
    }
   ],
   "source": [
    "corpus = list(train[\"review\"])+list(old_test[\"review\"])\n",
    "Vectorize =TfidfVectorizer(token_pattern=r'\\w{1,}', max_features=35000, ngram_range=(1, 1))\n",
    "Vectorize.fit(corpus)\n",
    "X = Vectorize.transform(train[\"review\"])\n",
    "y = train['label'] \n",
    "X_test = Vectorize.transform(test[\"review\"])\n",
    "print(X.shape)\n",
    "print(y.shape)"
   ]
  },
  {
   "cell_type": "code",
   "execution_count": 8,
   "metadata": {},
   "outputs": [
    {
     "name": "stdout",
     "output_type": "stream",
     "text": [
      "(6331, 6650)\n",
      "(2712, 6650)\n"
     ]
    }
   ],
   "source": [
    "#First vectorize then select features\n",
    "K = 6650\n",
    "model = SelectKBest(chi2,k=K)\n",
    "X_new = model.fit_transform(X,y)\n",
    "X_test_new = model.transform(X_test)\n",
    "print(X_new.shape)\n",
    "print(X_test_new.shape)\n",
    "#I guess it won't work well"
   ]
  },
  {
   "cell_type": "code",
   "execution_count": 10,
   "metadata": {
    "colab": {
     "base_uri": "https://localhost:8080/",
     "height": 35
    },
    "colab_type": "code",
    "executionInfo": {
     "elapsed": 1672,
     "status": "ok",
     "timestamp": 1557662105766,
     "user": {
      "displayName": "Kofji Tadokorov",
      "photoUrl": "https://lh3.googleusercontent.com/-YUx_cf31Gtg/AAAAAAAAAAI/AAAAAAAAAA0/rOAijW_LvVg/s64/photo.jpg",
      "userId": "01388159300759635001"
     },
     "user_tz": -480
    },
    "id": "svuawGojLptf",
    "outputId": "1074c0c5-19dc-4a08-ee3b-15873afb8d8a"
   },
   "outputs": [
    {
     "data": {
      "text/plain": [
       "0.9365354302156036"
      ]
     },
     "execution_count": 10,
     "metadata": {},
     "output_type": "execute_result"
    }
   ],
   "source": [
    "#SVM\n",
    "K = 10\n",
    "seed =20\n",
    "oof_preds = np.zeros((X.shape[0]))\n",
    "test_preds = np.zeros((X_test.shape[0]))\n",
    "kf = KFold(n_splits= K)\n",
    "for train_ind,val_ind in kf.split(X):\n",
    "  clf = MultinomialNB(alpha=0.21)\n",
    "# 0.21 0.19\n",
    "  clf.fit(X_new[train_ind],y[train_ind])\n",
    "  oof_preds[val_ind] += clf.predict_proba(X_new[val_ind])[:,1]\n",
    "  test_preds += clf.predict_proba(X_test_new)[:,1]\n",
    "test_preds/=K\n",
    "score = roc_auc_score(y>0.5,oof_preds)\n",
    "score"
   ]
  },
  {
   "cell_type": "code",
   "execution_count": 11,
   "metadata": {
    "colab": {
     "base_uri": "https://localhost:8080/",
     "height": 202
    },
    "colab_type": "code",
    "executionInfo": {
     "elapsed": 1149,
     "status": "ok",
     "timestamp": 1557662073092,
     "user": {
      "displayName": "Kofji Tadokorov",
      "photoUrl": "https://lh3.googleusercontent.com/-YUx_cf31Gtg/AAAAAAAAAAI/AAAAAAAAAA0/rOAijW_LvVg/s64/photo.jpg",
      "userId": "01388159300759635001"
     },
     "user_tz": -480
    },
    "id": "GOtoGCUrx79a",
    "outputId": "e6fda514-c7a4-4e4e-d8e3-0a2fbba353b2"
   },
   "outputs": [
    {
     "data": {
      "text/html": [
       "<div>\n",
       "<style scoped>\n",
       "    .dataframe tbody tr th:only-of-type {\n",
       "        vertical-align: middle;\n",
       "    }\n",
       "\n",
       "    .dataframe tbody tr th {\n",
       "        vertical-align: top;\n",
       "    }\n",
       "\n",
       "    .dataframe thead th {\n",
       "        text-align: right;\n",
       "    }\n",
       "</style>\n",
       "<table border=\"1\" class=\"dataframe\">\n",
       "  <thead>\n",
       "    <tr style=\"text-align: right;\">\n",
       "      <th></th>\n",
       "      <th>ID</th>\n",
       "      <th>Pred</th>\n",
       "    </tr>\n",
       "  </thead>\n",
       "  <tbody>\n",
       "    <tr>\n",
       "      <th>0</th>\n",
       "      <td>1</td>\n",
       "      <td>0.951247</td>\n",
       "    </tr>\n",
       "    <tr>\n",
       "      <th>1</th>\n",
       "      <td>2</td>\n",
       "      <td>0.858817</td>\n",
       "    </tr>\n",
       "    <tr>\n",
       "      <th>2</th>\n",
       "      <td>3</td>\n",
       "      <td>0.810539</td>\n",
       "    </tr>\n",
       "    <tr>\n",
       "      <th>3</th>\n",
       "      <td>4</td>\n",
       "      <td>0.463836</td>\n",
       "    </tr>\n",
       "    <tr>\n",
       "      <th>4</th>\n",
       "      <td>5</td>\n",
       "      <td>0.912071</td>\n",
       "    </tr>\n",
       "  </tbody>\n",
       "</table>\n",
       "</div>"
      ],
      "text/plain": [
       "   ID      Pred\n",
       "0   1  0.951247\n",
       "1   2  0.858817\n",
       "2   3  0.810539\n",
       "3   4  0.463836\n",
       "4   5  0.912071"
      ]
     },
     "execution_count": 11,
     "metadata": {},
     "output_type": "execute_result"
    }
   ],
   "source": [
    "sample = pd.read_csv(\"20190506_test.csv\")\n",
    "submission = pd.DataFrame(columns=[\"ID\",\"Pred\"])\n",
    "submission['Pred'] = test_preds\n",
    "submission['ID'] = sample[\"ID\"]\n",
    "submission.head()"
   ]
  },
  {
   "cell_type": "code",
   "execution_count": 222,
   "metadata": {
    "colab": {},
    "colab_type": "code",
    "id": "4POI0cFZzxD-"
   },
   "outputs": [],
   "source": [
    "score = str(score)\n",
    "submission.to_csv(score+'submission.csv', index=False)"
   ]
  }
 ],
 "metadata": {
  "accelerator": "GPU",
  "colab": {
   "collapsed_sections": [],
   "name": "TF-IDF-LR.ipynb",
   "provenance": [],
   "version": "0.3.2"
  },
  "kernelspec": {
   "display_name": "Python 3",
   "language": "python",
   "name": "python3"
  },
  "language_info": {
   "codemirror_mode": {
    "name": "ipython",
    "version": 3
   },
   "file_extension": ".py",
   "mimetype": "text/x-python",
   "name": "python",
   "nbconvert_exporter": "python",
   "pygments_lexer": "ipython3",
   "version": "3.7.2"
  }
 },
 "nbformat": 4,
 "nbformat_minor": 2
}
